{
 "cells": [
  {
   "cell_type": "markdown",
   "source": [
    "# Импорты"
   ],
   "metadata": {
    "collapsed": false
   }
  },
  {
   "cell_type": "code",
   "execution_count": 1,
   "metadata": {
    "collapsed": true
   },
   "outputs": [],
   "source": [
    "import pandas as pd"
   ]
  },
  {
   "cell_type": "markdown",
   "source": [
    "# Чтение и загрузка данных"
   ],
   "metadata": {
    "collapsed": false
   }
  },
  {
   "cell_type": "code",
   "execution_count": 2,
   "outputs": [
    {
     "data": {
      "text/plain": "                                                Name  \\\n0                    Машина посудомоечная SPS4HMI3FR   \n1                                            Триммер   \n2       Цифровой термометр-гигрометр с часами TA218A   \n3              Экономитель воды с регулировкой струи   \n4                                        Мультиварка   \n5                        Насадка для пылесоса 30MU09   \n6                                      Кухонные весы   \n7  Переключатель двухклавишный 3 выхода (ЕвроСтан...   \n8                   Выпрямитель волос SHE1101/210 °C   \n9                       Профессиональный фен GL 4311   \n\n                                            Category  \\\n0                           /Крупная бытовая техника   \n1     /Красота и здоровье/Бритвы и триммеры/Триммеры   \n2  /Красота и здоровье/Медицинские приборы/Термом...   \n3                                  /Техника для дома   \n4  /Техника для кухни/Приготовление блюд/Мультиварки   \n5  /Техника для дома/Аксессуары для пылесосов/Нас...   \n6                   /Техника для кухни/Кухонные весы   \n7                                  /Техника для дома   \n8  /Красота и здоровье/Фены, приборы для укладки/...   \n9  /Красота и здоровье/Фены, приборы для укладки/...   \n\n                        Brand                         Seller Color  Comments  \\\n0                       Bosch                ВАЙЛДБЕРРИЗ ООО   NaN       0.0   \n1                   Red Beard  Петрова Елена Владимировна ИП   NaN       5.0   \n2  Данилов Иван Валерьевич ИП     Данилов Иван Валерьевич ИП   NaN       0.0   \n3                      RIPOMA                     ГЛОБАЛ ООО   NaN       1.0   \n4                         ARC                      АРК-2 ООО   NaN       4.0   \n5                  Dr.Electro             ДОКТОР ЭЛЕКТРО ООО   NaN       0.0   \n6                     Аксинья                    АМ-СБЫТ ООО   NaN      13.0   \n7                     Daesung                  ЭКОГАРАНТ ООО   NaN       4.0   \n8                    StarWind                ВАЙЛДБЕРРИЗ ООО   NaN      45.0   \n9                      GALAXY     МЕГАПОЛИС (7321314837) ООО   NaN     428.0   \n\n   Final price  Max price  Min price  Average price  Sales  Days in stock  \\\n0      44990.0    44990.0    38120.0   41555.000000    2.0           23.0   \n1        799.0      799.0      799.0     799.000000    4.0            4.0   \n2        550.0      550.0      550.0     550.000000    2.0            5.0   \n3        127.0      259.0      127.0     127.000000    1.0           27.0   \n4       4651.0     4651.0     4217.0    4595.595745   47.0           20.0   \n5        736.0      800.0      736.0     749.714286   14.0           19.0   \n6        554.0      554.0      515.0     541.000000    9.0           31.0   \n7        276.0      410.0      217.0     290.500000   16.0           28.0   \n8        655.0      678.0      655.0     673.656250   32.0           31.0   \n9        968.0     1076.0      904.0     904.000000    1.0            1.0   \n\n   Days with sales  Rating  Basic Sale  Basic Sale Price  Base price  \\\n0                2  0,0000         0.0           44990.0     44990.0   \n1                3  5,0000        50.0             975.0      1950.0   \n2                2  0,0000         0.0             579.0       579.0   \n3                1  2,0000        70.0             159.0       532.0   \n4               18  5,0000        25.0            4651.0      6202.0   \n5               12  0,0000        54.0             736.0      1600.0   \n6                7  3,0000        40.0             554.0       924.0   \n7                8  4,0000        25.0             307.0       410.0   \n8               19  4,0000        42.0             655.0      1130.0   \n9                1  4,0000        31.0            1076.0      1560.0   \n\n                                       full_category  \n0            Бытовая техника/Крупная бытовая техника  \n1  Бытовая техника/Красота и здоровье/Бритвы и тр...  \n2  Бытовая техника/Красота и здоровье/Медицинские...  \n3                   Бытовая техника/Техника для дома  \n4  Бытовая техника/Техника для кухни/Приготовлени...  \n5  Бытовая техника/Техника для дома/Аксессуары дл...  \n6    Бытовая техника/Техника для кухни/Кухонные весы  \n7                   Бытовая техника/Техника для дома  \n8  Бытовая техника/Красота и здоровье/Фены, прибо...  \n9  Бытовая техника/Красота и здоровье/Фены, прибо...  ",
      "text/html": "<div>\n<style scoped>\n    .dataframe tbody tr th:only-of-type {\n        vertical-align: middle;\n    }\n\n    .dataframe tbody tr th {\n        vertical-align: top;\n    }\n\n    .dataframe thead th {\n        text-align: right;\n    }\n</style>\n<table border=\"1\" class=\"dataframe\">\n  <thead>\n    <tr style=\"text-align: right;\">\n      <th></th>\n      <th>Name</th>\n      <th>Category</th>\n      <th>Brand</th>\n      <th>Seller</th>\n      <th>Color</th>\n      <th>Comments</th>\n      <th>Final price</th>\n      <th>Max price</th>\n      <th>Min price</th>\n      <th>Average price</th>\n      <th>Sales</th>\n      <th>Days in stock</th>\n      <th>Days with sales</th>\n      <th>Rating</th>\n      <th>Basic Sale</th>\n      <th>Basic Sale Price</th>\n      <th>Base price</th>\n      <th>full_category</th>\n    </tr>\n  </thead>\n  <tbody>\n    <tr>\n      <th>0</th>\n      <td>Машина посудомоечная SPS4HMI3FR</td>\n      <td>/Крупная бытовая техника</td>\n      <td>Bosch</td>\n      <td>ВАЙЛДБЕРРИЗ ООО</td>\n      <td>NaN</td>\n      <td>0.0</td>\n      <td>44990.0</td>\n      <td>44990.0</td>\n      <td>38120.0</td>\n      <td>41555.000000</td>\n      <td>2.0</td>\n      <td>23.0</td>\n      <td>2</td>\n      <td>0,0000</td>\n      <td>0.0</td>\n      <td>44990.0</td>\n      <td>44990.0</td>\n      <td>Бытовая техника/Крупная бытовая техника</td>\n    </tr>\n    <tr>\n      <th>1</th>\n      <td>Триммер</td>\n      <td>/Красота и здоровье/Бритвы и триммеры/Триммеры</td>\n      <td>Red Beard</td>\n      <td>Петрова Елена Владимировна ИП</td>\n      <td>NaN</td>\n      <td>5.0</td>\n      <td>799.0</td>\n      <td>799.0</td>\n      <td>799.0</td>\n      <td>799.000000</td>\n      <td>4.0</td>\n      <td>4.0</td>\n      <td>3</td>\n      <td>5,0000</td>\n      <td>50.0</td>\n      <td>975.0</td>\n      <td>1950.0</td>\n      <td>Бытовая техника/Красота и здоровье/Бритвы и тр...</td>\n    </tr>\n    <tr>\n      <th>2</th>\n      <td>Цифровой термометр-гигрометр с часами TA218A</td>\n      <td>/Красота и здоровье/Медицинские приборы/Термом...</td>\n      <td>Данилов Иван Валерьевич ИП</td>\n      <td>Данилов Иван Валерьевич ИП</td>\n      <td>NaN</td>\n      <td>0.0</td>\n      <td>550.0</td>\n      <td>550.0</td>\n      <td>550.0</td>\n      <td>550.000000</td>\n      <td>2.0</td>\n      <td>5.0</td>\n      <td>2</td>\n      <td>0,0000</td>\n      <td>0.0</td>\n      <td>579.0</td>\n      <td>579.0</td>\n      <td>Бытовая техника/Красота и здоровье/Медицинские...</td>\n    </tr>\n    <tr>\n      <th>3</th>\n      <td>Экономитель воды с регулировкой струи</td>\n      <td>/Техника для дома</td>\n      <td>RIPOMA</td>\n      <td>ГЛОБАЛ ООО</td>\n      <td>NaN</td>\n      <td>1.0</td>\n      <td>127.0</td>\n      <td>259.0</td>\n      <td>127.0</td>\n      <td>127.000000</td>\n      <td>1.0</td>\n      <td>27.0</td>\n      <td>1</td>\n      <td>2,0000</td>\n      <td>70.0</td>\n      <td>159.0</td>\n      <td>532.0</td>\n      <td>Бытовая техника/Техника для дома</td>\n    </tr>\n    <tr>\n      <th>4</th>\n      <td>Мультиварка</td>\n      <td>/Техника для кухни/Приготовление блюд/Мультиварки</td>\n      <td>ARC</td>\n      <td>АРК-2 ООО</td>\n      <td>NaN</td>\n      <td>4.0</td>\n      <td>4651.0</td>\n      <td>4651.0</td>\n      <td>4217.0</td>\n      <td>4595.595745</td>\n      <td>47.0</td>\n      <td>20.0</td>\n      <td>18</td>\n      <td>5,0000</td>\n      <td>25.0</td>\n      <td>4651.0</td>\n      <td>6202.0</td>\n      <td>Бытовая техника/Техника для кухни/Приготовлени...</td>\n    </tr>\n    <tr>\n      <th>5</th>\n      <td>Насадка для пылесоса 30MU09</td>\n      <td>/Техника для дома/Аксессуары для пылесосов/Нас...</td>\n      <td>Dr.Electro</td>\n      <td>ДОКТОР ЭЛЕКТРО ООО</td>\n      <td>NaN</td>\n      <td>0.0</td>\n      <td>736.0</td>\n      <td>800.0</td>\n      <td>736.0</td>\n      <td>749.714286</td>\n      <td>14.0</td>\n      <td>19.0</td>\n      <td>12</td>\n      <td>0,0000</td>\n      <td>54.0</td>\n      <td>736.0</td>\n      <td>1600.0</td>\n      <td>Бытовая техника/Техника для дома/Аксессуары дл...</td>\n    </tr>\n    <tr>\n      <th>6</th>\n      <td>Кухонные весы</td>\n      <td>/Техника для кухни/Кухонные весы</td>\n      <td>Аксинья</td>\n      <td>АМ-СБЫТ ООО</td>\n      <td>NaN</td>\n      <td>13.0</td>\n      <td>554.0</td>\n      <td>554.0</td>\n      <td>515.0</td>\n      <td>541.000000</td>\n      <td>9.0</td>\n      <td>31.0</td>\n      <td>7</td>\n      <td>3,0000</td>\n      <td>40.0</td>\n      <td>554.0</td>\n      <td>924.0</td>\n      <td>Бытовая техника/Техника для кухни/Кухонные весы</td>\n    </tr>\n    <tr>\n      <th>7</th>\n      <td>Переключатель двухклавишный 3 выхода (ЕвроСтан...</td>\n      <td>/Техника для дома</td>\n      <td>Daesung</td>\n      <td>ЭКОГАРАНТ ООО</td>\n      <td>NaN</td>\n      <td>4.0</td>\n      <td>276.0</td>\n      <td>410.0</td>\n      <td>217.0</td>\n      <td>290.500000</td>\n      <td>16.0</td>\n      <td>28.0</td>\n      <td>8</td>\n      <td>4,0000</td>\n      <td>25.0</td>\n      <td>307.0</td>\n      <td>410.0</td>\n      <td>Бытовая техника/Техника для дома</td>\n    </tr>\n    <tr>\n      <th>8</th>\n      <td>Выпрямитель волос SHE1101/210 °C</td>\n      <td>/Красота и здоровье/Фены, приборы для укладки/...</td>\n      <td>StarWind</td>\n      <td>ВАЙЛДБЕРРИЗ ООО</td>\n      <td>NaN</td>\n      <td>45.0</td>\n      <td>655.0</td>\n      <td>678.0</td>\n      <td>655.0</td>\n      <td>673.656250</td>\n      <td>32.0</td>\n      <td>31.0</td>\n      <td>19</td>\n      <td>4,0000</td>\n      <td>42.0</td>\n      <td>655.0</td>\n      <td>1130.0</td>\n      <td>Бытовая техника/Красота и здоровье/Фены, прибо...</td>\n    </tr>\n    <tr>\n      <th>9</th>\n      <td>Профессиональный фен GL 4311</td>\n      <td>/Красота и здоровье/Фены, приборы для укладки/...</td>\n      <td>GALAXY</td>\n      <td>МЕГАПОЛИС (7321314837) ООО</td>\n      <td>NaN</td>\n      <td>428.0</td>\n      <td>968.0</td>\n      <td>1076.0</td>\n      <td>904.0</td>\n      <td>904.000000</td>\n      <td>1.0</td>\n      <td>1.0</td>\n      <td>1</td>\n      <td>4,0000</td>\n      <td>31.0</td>\n      <td>1076.0</td>\n      <td>1560.0</td>\n      <td>Бытовая техника/Красота и здоровье/Фены, прибо...</td>\n    </tr>\n  </tbody>\n</table>\n</div>"
     },
     "execution_count": 2,
     "metadata": {},
     "output_type": "execute_result"
    }
   ],
   "source": [
    "train_df = pd.read_csv('../data/train.csv')\n",
    "test_df = pd.read_csv('../data/test.csv')\n",
    "train_df.head(10)"
   ],
   "metadata": {
    "collapsed": false
   }
  },
  {
   "cell_type": "markdown",
   "source": [
    "# Исследование данных"
   ],
   "metadata": {
    "collapsed": false
   }
  },
  {
   "cell_type": "code",
   "execution_count": 3,
   "outputs": [
    {
     "name": "stdout",
     "output_type": "stream",
     "text": [
      "<class 'pandas.core.frame.DataFrame'>\n",
      "RangeIndex: 25062 entries, 0 to 25061\n",
      "Data columns (total 18 columns):\n",
      " #   Column            Non-Null Count  Dtype  \n",
      "---  ------            --------------  -----  \n",
      " 0   Name              25062 non-null  object \n",
      " 1   Category          25062 non-null  object \n",
      " 2   Brand             25061 non-null  object \n",
      " 3   Seller            25031 non-null  object \n",
      " 4   Color             127 non-null    object \n",
      " 5   Comments          25062 non-null  float64\n",
      " 6   Final price       25062 non-null  float64\n",
      " 7   Max price         25062 non-null  float64\n",
      " 8   Min price         25062 non-null  float64\n",
      " 9   Average price     19264 non-null  float64\n",
      " 10  Sales             25062 non-null  float64\n",
      " 11  Days in stock     25062 non-null  float64\n",
      " 12  Days with sales   25062 non-null  int64  \n",
      " 13  Rating            25062 non-null  object \n",
      " 14  Basic Sale        25062 non-null  float64\n",
      " 15  Basic Sale Price  25062 non-null  float64\n",
      " 16  Base price        25062 non-null  float64\n",
      " 17  full_category     25062 non-null  object \n",
      "dtypes: float64(10), int64(1), object(7)\n",
      "memory usage: 3.4+ MB\n"
     ]
    }
   ],
   "source": [
    "train_df.info()"
   ],
   "metadata": {
    "collapsed": false
   }
  },
  {
   "cell_type": "code",
   "execution_count": 4,
   "outputs": [
    {
     "data": {
      "text/plain": "           Comments    Final price      Max price      Min price  \\\ncount  25062.000000   25062.000000   25062.000000   25062.000000   \nmean      23.312425    3528.017237    3804.909425    3304.637100   \nstd      114.381180    6503.558322    6878.676851    5997.029222   \nmin        0.000000      41.000000      47.000000      38.000000   \n25%        0.000000     617.000000     679.000000     590.000000   \n50%        2.000000    1401.000000    1517.000000    1347.000000   \n75%       11.000000    3444.500000    3780.000000    3238.250000   \nmax     5413.000000  179256.000000  179256.000000  162960.000000   \n\n       Average price         Sales  Days in stock  Days with sales  \\\ncount   19264.000000  25062.000000   25062.000000     25062.000000   \nmean     3129.730870     39.633469      20.167265         6.083154   \nstd      5778.045279    228.910881      11.928790         7.691797   \nmin        38.000000      0.000000       0.000000         0.000000   \n25%       564.000000      1.000000       8.000000         1.000000   \n50%      1290.000000      4.000000      26.000000         3.000000   \n75%      3110.330357     16.000000      31.000000         9.000000   \nmax    179256.000000  12156.000000      31.000000        31.000000   \n\n         Basic Sale  Basic Sale Price     Base price  \ncount  25062.000000      25062.000000   25062.000000  \nmean      31.870002       3843.291677    5534.881135  \nstd       22.882029       6824.679868    8482.164111  \nmin        0.000000         44.000000      50.000000  \n25%       10.000000        700.000000    1177.000000  \n50%       33.000000       1625.000000    2760.000000  \n75%       50.000000       3864.750000    6000.000000  \nmax       95.000000     213400.000000  220000.000000  ",
      "text/html": "<div>\n<style scoped>\n    .dataframe tbody tr th:only-of-type {\n        vertical-align: middle;\n    }\n\n    .dataframe tbody tr th {\n        vertical-align: top;\n    }\n\n    .dataframe thead th {\n        text-align: right;\n    }\n</style>\n<table border=\"1\" class=\"dataframe\">\n  <thead>\n    <tr style=\"text-align: right;\">\n      <th></th>\n      <th>Comments</th>\n      <th>Final price</th>\n      <th>Max price</th>\n      <th>Min price</th>\n      <th>Average price</th>\n      <th>Sales</th>\n      <th>Days in stock</th>\n      <th>Days with sales</th>\n      <th>Basic Sale</th>\n      <th>Basic Sale Price</th>\n      <th>Base price</th>\n    </tr>\n  </thead>\n  <tbody>\n    <tr>\n      <th>count</th>\n      <td>25062.000000</td>\n      <td>25062.000000</td>\n      <td>25062.000000</td>\n      <td>25062.000000</td>\n      <td>19264.000000</td>\n      <td>25062.000000</td>\n      <td>25062.000000</td>\n      <td>25062.000000</td>\n      <td>25062.000000</td>\n      <td>25062.000000</td>\n      <td>25062.000000</td>\n    </tr>\n    <tr>\n      <th>mean</th>\n      <td>23.312425</td>\n      <td>3528.017237</td>\n      <td>3804.909425</td>\n      <td>3304.637100</td>\n      <td>3129.730870</td>\n      <td>39.633469</td>\n      <td>20.167265</td>\n      <td>6.083154</td>\n      <td>31.870002</td>\n      <td>3843.291677</td>\n      <td>5534.881135</td>\n    </tr>\n    <tr>\n      <th>std</th>\n      <td>114.381180</td>\n      <td>6503.558322</td>\n      <td>6878.676851</td>\n      <td>5997.029222</td>\n      <td>5778.045279</td>\n      <td>228.910881</td>\n      <td>11.928790</td>\n      <td>7.691797</td>\n      <td>22.882029</td>\n      <td>6824.679868</td>\n      <td>8482.164111</td>\n    </tr>\n    <tr>\n      <th>min</th>\n      <td>0.000000</td>\n      <td>41.000000</td>\n      <td>47.000000</td>\n      <td>38.000000</td>\n      <td>38.000000</td>\n      <td>0.000000</td>\n      <td>0.000000</td>\n      <td>0.000000</td>\n      <td>0.000000</td>\n      <td>44.000000</td>\n      <td>50.000000</td>\n    </tr>\n    <tr>\n      <th>25%</th>\n      <td>0.000000</td>\n      <td>617.000000</td>\n      <td>679.000000</td>\n      <td>590.000000</td>\n      <td>564.000000</td>\n      <td>1.000000</td>\n      <td>8.000000</td>\n      <td>1.000000</td>\n      <td>10.000000</td>\n      <td>700.000000</td>\n      <td>1177.000000</td>\n    </tr>\n    <tr>\n      <th>50%</th>\n      <td>2.000000</td>\n      <td>1401.000000</td>\n      <td>1517.000000</td>\n      <td>1347.000000</td>\n      <td>1290.000000</td>\n      <td>4.000000</td>\n      <td>26.000000</td>\n      <td>3.000000</td>\n      <td>33.000000</td>\n      <td>1625.000000</td>\n      <td>2760.000000</td>\n    </tr>\n    <tr>\n      <th>75%</th>\n      <td>11.000000</td>\n      <td>3444.500000</td>\n      <td>3780.000000</td>\n      <td>3238.250000</td>\n      <td>3110.330357</td>\n      <td>16.000000</td>\n      <td>31.000000</td>\n      <td>9.000000</td>\n      <td>50.000000</td>\n      <td>3864.750000</td>\n      <td>6000.000000</td>\n    </tr>\n    <tr>\n      <th>max</th>\n      <td>5413.000000</td>\n      <td>179256.000000</td>\n      <td>179256.000000</td>\n      <td>162960.000000</td>\n      <td>179256.000000</td>\n      <td>12156.000000</td>\n      <td>31.000000</td>\n      <td>31.000000</td>\n      <td>95.000000</td>\n      <td>213400.000000</td>\n      <td>220000.000000</td>\n    </tr>\n  </tbody>\n</table>\n</div>"
     },
     "execution_count": 4,
     "metadata": {},
     "output_type": "execute_result"
    }
   ],
   "source": [
    "train_df.describe()"
   ],
   "metadata": {
    "collapsed": false
   }
  },
  {
   "cell_type": "code",
   "execution_count": 5,
   "outputs": [
    {
     "data": {
      "text/plain": "                        Name           Category    Brand           Seller  \\\ncount                  25062              25062    25061            25031   \nunique                 15549                214     2931             2151   \ntop     Чайник электрический  /Техника для дома  HDFREZA  ВАЙЛДБЕРРИЗ ООО   \nfreq                     552               2949      513             3431   \n\n        Color  Rating                     full_category  \ncount     127   25062                             25062  \nunique     37       6                               214  \ntop     белый  0,0000  Бытовая техника/Техника для дома  \nfreq       34    8644                              2949  ",
      "text/html": "<div>\n<style scoped>\n    .dataframe tbody tr th:only-of-type {\n        vertical-align: middle;\n    }\n\n    .dataframe tbody tr th {\n        vertical-align: top;\n    }\n\n    .dataframe thead th {\n        text-align: right;\n    }\n</style>\n<table border=\"1\" class=\"dataframe\">\n  <thead>\n    <tr style=\"text-align: right;\">\n      <th></th>\n      <th>Name</th>\n      <th>Category</th>\n      <th>Brand</th>\n      <th>Seller</th>\n      <th>Color</th>\n      <th>Rating</th>\n      <th>full_category</th>\n    </tr>\n  </thead>\n  <tbody>\n    <tr>\n      <th>count</th>\n      <td>25062</td>\n      <td>25062</td>\n      <td>25061</td>\n      <td>25031</td>\n      <td>127</td>\n      <td>25062</td>\n      <td>25062</td>\n    </tr>\n    <tr>\n      <th>unique</th>\n      <td>15549</td>\n      <td>214</td>\n      <td>2931</td>\n      <td>2151</td>\n      <td>37</td>\n      <td>6</td>\n      <td>214</td>\n    </tr>\n    <tr>\n      <th>top</th>\n      <td>Чайник электрический</td>\n      <td>/Техника для дома</td>\n      <td>HDFREZA</td>\n      <td>ВАЙЛДБЕРРИЗ ООО</td>\n      <td>белый</td>\n      <td>0,0000</td>\n      <td>Бытовая техника/Техника для дома</td>\n    </tr>\n    <tr>\n      <th>freq</th>\n      <td>552</td>\n      <td>2949</td>\n      <td>513</td>\n      <td>3431</td>\n      <td>34</td>\n      <td>8644</td>\n      <td>2949</td>\n    </tr>\n  </tbody>\n</table>\n</div>"
     },
     "execution_count": 5,
     "metadata": {},
     "output_type": "execute_result"
    }
   ],
   "source": [
    "train_df.describe(include='O')"
   ],
   "metadata": {
    "collapsed": false
   }
  },
  {
   "cell_type": "code",
   "execution_count": 6,
   "outputs": [
    {
     "name": "stdout",
     "output_type": "stream",
     "text": [
      "<class 'pandas.core.frame.DataFrame'>\n",
      "RangeIndex: 25062 entries, 0 to 25061\n",
      "Data columns (total 18 columns):\n",
      " #   Column            Non-Null Count  Dtype  \n",
      "---  ------            --------------  -----  \n",
      " 0   Name              25062 non-null  object \n",
      " 1   Category          25062 non-null  object \n",
      " 2   Brand             25061 non-null  object \n",
      " 3   Seller            25031 non-null  object \n",
      " 4   Color             127 non-null    object \n",
      " 5   Comments          25062 non-null  float64\n",
      " 6   Final price       25062 non-null  float64\n",
      " 7   Max price         25062 non-null  float64\n",
      " 8   Min price         25062 non-null  float64\n",
      " 9   Average price     19264 non-null  float64\n",
      " 10  Sales             25062 non-null  float64\n",
      " 11  Days in stock     25062 non-null  float64\n",
      " 12  Days with sales   25062 non-null  int64  \n",
      " 13  Rating            25062 non-null  float64\n",
      " 14  Basic Sale        25062 non-null  float64\n",
      " 15  Basic Sale Price  25062 non-null  float64\n",
      " 16  Base price        25062 non-null  float64\n",
      " 17  full_category     25062 non-null  object \n",
      "dtypes: float64(11), int64(1), object(6)\n",
      "memory usage: 3.4+ MB\n"
     ]
    }
   ],
   "source": [
    "train_df.Rating = train_df.Rating.str.replace(',', '.').astype(float)\n",
    "train_df.info()"
   ],
   "metadata": {
    "collapsed": false
   }
  },
  {
   "cell_type": "code",
   "execution_count": 7,
   "outputs": [
    {
     "name": "stdout",
     "output_type": "stream",
     "text": [
      "<class 'pandas.core.frame.DataFrame'>\n",
      "RangeIndex: 10741 entries, 0 to 10740\n",
      "Data columns (total 18 columns):\n",
      " #   Column            Non-Null Count  Dtype  \n",
      "---  ------            --------------  -----  \n",
      " 0   Id                10741 non-null  int64  \n",
      " 1   Name              10741 non-null  object \n",
      " 2   Category          10741 non-null  object \n",
      " 3   Brand             10741 non-null  object \n",
      " 4   Seller            10734 non-null  object \n",
      " 5   Color             68 non-null     object \n",
      " 6   Comments          10741 non-null  float64\n",
      " 7   Final price       10741 non-null  float64\n",
      " 8   Max price         10741 non-null  float64\n",
      " 9   Min price         10741 non-null  float64\n",
      " 10  Average price     8334 non-null   float64\n",
      " 11  Days in stock     10741 non-null  float64\n",
      " 12  Days with sales   10741 non-null  int64  \n",
      " 13  Rating            10741 non-null  float64\n",
      " 14  Basic Sale        10741 non-null  float64\n",
      " 15  Basic Sale Price  10741 non-null  float64\n",
      " 16  Base price        10741 non-null  float64\n",
      " 17  full_category     10741 non-null  object \n",
      "dtypes: float64(10), int64(2), object(6)\n",
      "memory usage: 1.5+ MB\n"
     ]
    }
   ],
   "source": [
    "test_df.Rating = test_df.Rating.str.replace(',', '.').astype(float)\n",
    "test_df.info()"
   ],
   "metadata": {
    "collapsed": false
   }
  },
  {
   "cell_type": "markdown",
   "source": [
    "## Заполнение null-значений"
   ],
   "metadata": {
    "collapsed": false
   }
  },
  {
   "cell_type": "code",
   "execution_count": 10,
   "outputs": [],
   "source": [
    "train_df['Average price'].fillna((train_df['Max price'] + train_df['Min price']) / 2.0, inplace=True)\n",
    "test_df['Average price'].fillna((test_df['Max price'] + test_df['Min price']) / 2.0, inplace=True)"
   ],
   "metadata": {
    "collapsed": false
   }
  },
  {
   "cell_type": "code",
   "execution_count": 11,
   "outputs": [
    {
     "data": {
      "text/plain": "Name                False\nCategory            False\nBrand                True\nSeller               True\nColor                True\nComments            False\nFinal price         False\nMax price           False\nMin price           False\nAverage price       False\nSales               False\nDays in stock       False\nDays with sales     False\nRating              False\nBasic Sale          False\nBasic Sale Price    False\nBase price          False\nfull_category       False\ndtype: bool"
     },
     "execution_count": 11,
     "metadata": {},
     "output_type": "execute_result"
    }
   ],
   "source": [
    "train_df.isna().any()"
   ],
   "metadata": {
    "collapsed": false
   }
  },
  {
   "cell_type": "code",
   "execution_count": 12,
   "outputs": [],
   "source": [
    "train_df = train_df[~pd.to_numeric(train_df['Days in stock'], errors='coerce').isna()]"
   ],
   "metadata": {
    "collapsed": false
   }
  },
  {
   "cell_type": "code",
   "execution_count": 13,
   "outputs": [],
   "source": [
    "test_df = test_df[~pd.to_numeric(test_df['Days in stock'], errors='coerce').isna()]"
   ],
   "metadata": {
    "collapsed": false
   }
  },
  {
   "cell_type": "code",
   "execution_count": 14,
   "outputs": [],
   "source": [
    "train_df['Days in stock'] = train_df['Days in stock'].astype(float)"
   ],
   "metadata": {
    "collapsed": false
   }
  },
  {
   "cell_type": "code",
   "execution_count": 15,
   "outputs": [],
   "source": [
    "test_df['Days in stock'] = test_df['Days in stock'].astype(float)"
   ],
   "metadata": {
    "collapsed": false
   }
  },
  {
   "cell_type": "markdown",
   "source": [
    "# Количественные параметры"
   ],
   "metadata": {
    "collapsed": false
   }
  },
  {
   "cell_type": "code",
   "execution_count": null,
   "outputs": [],
   "source": [],
   "metadata": {
    "collapsed": false,
    "pycharm": {
     "is_executing": true
    }
   }
  },
  {
   "cell_type": "code",
   "execution_count": null,
   "outputs": [],
   "source": [],
   "metadata": {
    "collapsed": false
   }
  }
 ],
 "metadata": {
  "kernelspec": {
   "display_name": "Python 3",
   "language": "python",
   "name": "python3"
  },
  "language_info": {
   "codemirror_mode": {
    "name": "ipython",
    "version": 2
   },
   "file_extension": ".py",
   "mimetype": "text/x-python",
   "name": "python",
   "nbconvert_exporter": "python",
   "pygments_lexer": "ipython2",
   "version": "2.7.6"
  }
 },
 "nbformat": 4,
 "nbformat_minor": 0
}
